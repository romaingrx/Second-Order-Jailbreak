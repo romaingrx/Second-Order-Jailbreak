{
 "cells": [
  {
   "cell_type": "code",
   "execution_count": null,
   "metadata": {},
   "outputs": [],
   "source": [
    "import pandas as pd\n",
    "from utils import dir_path, extract_from_files"
   ]
  },
  {
   "cell_type": "code",
   "execution_count": null,
   "metadata": {},
   "outputs": [],
   "source": [
    "paths = dir_path('../output/report_output/')\n",
    "paths_dict = {\n",
    "    '2_agents' : [path for path in paths if '2_agents' in path.parts],\n",
    "    '3_agents' : [path for path in paths if '3_agents' in path.parts],\n",
    "}"
   ]
  },
  {
   "cell_type": "code",
   "execution_count": null,
   "metadata": {},
   "outputs": [],
   "source": [
    "def extract_exp_def_succeded(data):\n",
    "    exp = str(data['exp_path']).split('_')[-3]\n",
    "    defender_model = str(data['exp_path']).split('_')[-4] \n",
    "    won = not data['result'] or data['result']['solved']\n",
    "    return {\n",
    "        'exp': exp,\n",
    "        'defender_model': defender_model,\n",
    "        'won': won\n",
    "    }\n",
    "\n",
    "extracted_3_agents = [extract_from_files(path) for path in paths_dict['3_agents']]\n",
    "results = pd.DataFrame([extract_exp_def_succeded(data) for data in extracted_3_agents], columns=['exp', 'defender_model', 'won'])"
   ]
  },
  {
   "cell_type": "code",
   "execution_count": null,
   "metadata": {},
   "outputs": [],
   "source": [
    "import numpy as np\n",
    "\n",
    "results_list = results.groupby(['exp', 'defender_model'])['won'].apply(list).reset_index(name='won').to_dict('records')\n",
    "results_list = [{\n",
    "    **result, \n",
    "    'mean': np.mean(result['won']),\n",
    "    'std': np.std(result['won']),\n",
    "    } for result in results_list]\n",
    "from collections import defaultdict\n",
    "\n",
    "tree = defaultdict(dict)\n",
    "for result in results_list:\n",
    "    tree[result['exp']][result['defender_model']] = result\n",
    "\n",
    "exps = list(tree.keys())\n",
    "models = list(tree[exps[0]].keys())\n",
    "mean_data = [[tree[exp][model]['mean'] for model in models] for exp in exps]\n",
    "std_data = [[tree[exp][model]['std'] for model in models] for exp in exps]\n",
    "std_data"
   ]
  },
  {
   "cell_type": "code",
   "execution_count": null,
   "metadata": {},
   "outputs": [],
   "source": [
    "import plotly.graph_objects as go\n",
    "\n",
    "data = []\n",
    "colors = [\"#BAABDA\", \"#D6E5FA\", \"#FFF9F9\"]\n",
    "for model in models:\n",
    "    y_data = [tree[exp][model][\"mean\"] for exp in exps]\n",
    "    e_data = [tree[exp][model][\"std\"] for exp in exps]\n",
    "    data.append(\n",
    "        go.Bar(\n",
    "            name=model,\n",
    "            x=exps,\n",
    "            y=y_data,\n",
    "            # error_y=dict(type=\"data\", array=e_data),\n",
    "            marker_color=colors[models.index(model)],\n",
    "        )\n",
    "    )\n",
    "\n",
    "fig = go.Figure(\n",
    "    data=data,\n",
    "    layout={\n",
    "        \"yaxis\": {\"title\": \"Success rate\"},\n",
    "    },\n",
    ")\n",
    "\n",
    "fig.update_layout(\n",
    "    barmode=\"group\",\n",
    "    plot_bgcolor=\"white\",\n",
    "    legend=dict(\n",
    "        orientation=\"h\",\n",
    "        yanchor=\"bottom\",\n",
    "        y=1.02,\n",
    "        xanchor=\"right\",\n",
    "        x=1,\n",
    "        font=dict(\n",
    "            size=24,\n",
    "        ),\n",
    "    ),\n",
    "    yaxis=dict(\n",
    "        showgrid=True,\n",
    "        gridcolor='lightgray',\n",
    "        gridwidth=0.5,\n",
    "    ),\n",
    "    font=dict(\n",
    "            size=32\n",
    "    )\n",
    ")\n",
    "\n",
    "fig.write_image(\"../output/imgs/3_agent_barplot.pdf\")\n",
    "fig.show()"
   ]
  }
 ],
 "metadata": {
  "kernelspec": {
   "display_name": "deep",
   "language": "python",
   "name": "python3"
  },
  "language_info": {
   "codemirror_mode": {
    "name": "ipython",
    "version": 3
   },
   "file_extension": ".py",
   "mimetype": "text/x-python",
   "name": "python",
   "nbconvert_exporter": "python",
   "pygments_lexer": "ipython3",
   "version": "3.9.15"
  },
  "orig_nbformat": 4
 },
 "nbformat": 4,
 "nbformat_minor": 2
}
